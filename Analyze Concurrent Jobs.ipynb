{
 "cells": [
  {
   "cell_type": "code",
   "execution_count": 1,
   "id": "68fa2041",
   "metadata": {},
   "outputs": [],
   "source": [
    "import matplotlib.pyplot as plt\n",
    "import numpy as np\n",
    "import pandas as pd"
   ]
  },
  {
   "cell_type": "code",
   "execution_count": 2,
   "id": "78a027e8",
   "metadata": {},
   "outputs": [],
   "source": [
    "import matplotlib.pyplot as plt\n",
    "import numpy as np\n",
    "import pandas as pd"
   ]
  },
  {
   "cell_type": "code",
   "execution_count": null,
   "id": "1db08f8b",
   "metadata": {},
   "outputs": [],
   "source": []
  },
  {
   "cell_type": "code",
   "execution_count": null,
   "id": "0fad2248",
   "metadata": {},
   "outputs": [],
   "source": []
  },
  {
   "cell_type": "code",
   "execution_count": 3,
   "id": "deb3e390",
   "metadata": {},
   "outputs": [],
   "source": [
    "jobscsv = pd.read_csv(\"jobs.csv\")"
   ]
  },
  {
   "cell_type": "code",
   "execution_count": null,
   "id": "3b117b0d",
   "metadata": {},
   "outputs": [],
   "source": []
  },
  {
   "cell_type": "code",
   "execution_count": 4,
   "id": "8c0e6977",
   "metadata": {},
   "outputs": [
    {
     "data": {
      "text/html": [
       "<div>\n",
       "<style scoped>\n",
       "    .dataframe tbody tr th:only-of-type {\n",
       "        vertical-align: middle;\n",
       "    }\n",
       "\n",
       "    .dataframe tbody tr th {\n",
       "        vertical-align: top;\n",
       "    }\n",
       "\n",
       "    .dataframe thead th {\n",
       "        text-align: right;\n",
       "    }\n",
       "</style>\n",
       "<table border=\"1\" class=\"dataframe\">\n",
       "  <thead>\n",
       "    <tr style=\"text-align: right;\">\n",
       "      <th></th>\n",
       "      <th>HostMachineName</th>\n",
       "      <th>Key</th>\n",
       "      <th>StartTime</th>\n",
       "      <th>EndTime</th>\n",
       "    </tr>\n",
       "  </thead>\n",
       "  <tbody>\n",
       "    <tr>\n",
       "      <th>0</th>\n",
       "      <td>NaN</td>\n",
       "      <td>NaN</td>\n",
       "      <td>NaN</td>\n",
       "      <td>NaN</td>\n",
       "    </tr>\n",
       "    <tr>\n",
       "      <th>1</th>\n",
       "      <td>MachineA006</td>\n",
       "      <td>036144ec-608a-4b7e-ac24-070825fa6930</td>\n",
       "      <td>07/05/2022 12:18:46</td>\n",
       "      <td>07/05/2022 12:30:15</td>\n",
       "    </tr>\n",
       "    <tr>\n",
       "      <th>2</th>\n",
       "      <td>MachineA005</td>\n",
       "      <td>f08d4750-e1c4-4125-a9e1-bfe5a5cdca02</td>\n",
       "      <td>07/05/2022 14:02:35</td>\n",
       "      <td>07/05/2022 16:23:42</td>\n",
       "    </tr>\n",
       "    <tr>\n",
       "      <th>3</th>\n",
       "      <td>MachineA002</td>\n",
       "      <td>0c9ca1e2-b468-49f9-b1b8-0659007b3fd0</td>\n",
       "      <td>07/05/2022 09:03:23</td>\n",
       "      <td>07/05/2022 12:27:56</td>\n",
       "    </tr>\n",
       "    <tr>\n",
       "      <th>4</th>\n",
       "      <td>MachineA011</td>\n",
       "      <td>4fb645aa-216b-4f09-b4c8-96a84c7fed50</td>\n",
       "      <td>07/05/2022 09:02:55</td>\n",
       "      <td>07/05/2022 12:32:10</td>\n",
       "    </tr>\n",
       "    <tr>\n",
       "      <th>...</th>\n",
       "      <td>...</td>\n",
       "      <td>...</td>\n",
       "      <td>...</td>\n",
       "      <td>...</td>\n",
       "    </tr>\n",
       "    <tr>\n",
       "      <th>996</th>\n",
       "      <td>MachineC001</td>\n",
       "      <td>85e83bf9-533a-437d-b46a-e06773e0d957</td>\n",
       "      <td>07/05/2022 08:00:01</td>\n",
       "      <td>07/05/2022 08:11:18</td>\n",
       "    </tr>\n",
       "    <tr>\n",
       "      <th>997</th>\n",
       "      <td>MachineC001</td>\n",
       "      <td>88122fde-6881-4557-b5c5-afeb18f9c23c</td>\n",
       "      <td>07/05/2022 09:30:01</td>\n",
       "      <td>07/05/2022 09:41:32</td>\n",
       "    </tr>\n",
       "    <tr>\n",
       "      <th>998</th>\n",
       "      <td>MachineC001</td>\n",
       "      <td>8329e217-f9b5-402f-b592-ee22483a036d</td>\n",
       "      <td>07/05/2022 10:00:01</td>\n",
       "      <td>07/05/2022 10:11:41</td>\n",
       "    </tr>\n",
       "    <tr>\n",
       "      <th>999</th>\n",
       "      <td>MachineA014</td>\n",
       "      <td>8dd67ce0-57ec-4825-952f-c1c61644cfae</td>\n",
       "      <td>07/05/2022 10:45:00</td>\n",
       "      <td>07/05/2022 10:47:01</td>\n",
       "    </tr>\n",
       "    <tr>\n",
       "      <th>1000</th>\n",
       "      <td>MachineA014</td>\n",
       "      <td>d506be14-3901-4c4b-8abf-9eab853277d8</td>\n",
       "      <td>07/05/2022 10:50:00</td>\n",
       "      <td>07/05/2022 10:54:16</td>\n",
       "    </tr>\n",
       "  </tbody>\n",
       "</table>\n",
       "<p>1001 rows × 4 columns</p>\n",
       "</div>"
      ],
      "text/plain": [
       "     HostMachineName                                   Key  \\\n",
       "0                NaN                                   NaN   \n",
       "1        MachineA006  036144ec-608a-4b7e-ac24-070825fa6930   \n",
       "2        MachineA005  f08d4750-e1c4-4125-a9e1-bfe5a5cdca02   \n",
       "3        MachineA002  0c9ca1e2-b468-49f9-b1b8-0659007b3fd0   \n",
       "4        MachineA011  4fb645aa-216b-4f09-b4c8-96a84c7fed50   \n",
       "...              ...                                   ...   \n",
       "996      MachineC001  85e83bf9-533a-437d-b46a-e06773e0d957   \n",
       "997      MachineC001  88122fde-6881-4557-b5c5-afeb18f9c23c   \n",
       "998      MachineC001  8329e217-f9b5-402f-b592-ee22483a036d   \n",
       "999      MachineA014  8dd67ce0-57ec-4825-952f-c1c61644cfae   \n",
       "1000     MachineA014  d506be14-3901-4c4b-8abf-9eab853277d8   \n",
       "\n",
       "                StartTime              EndTime  \n",
       "0                     NaN                  NaN  \n",
       "1     07/05/2022 12:18:46  07/05/2022 12:30:15  \n",
       "2     07/05/2022 14:02:35  07/05/2022 16:23:42  \n",
       "3     07/05/2022 09:03:23  07/05/2022 12:27:56  \n",
       "4     07/05/2022 09:02:55  07/05/2022 12:32:10  \n",
       "...                   ...                  ...  \n",
       "996   07/05/2022 08:00:01  07/05/2022 08:11:18  \n",
       "997   07/05/2022 09:30:01  07/05/2022 09:41:32  \n",
       "998   07/05/2022 10:00:01  07/05/2022 10:11:41  \n",
       "999   07/05/2022 10:45:00  07/05/2022 10:47:01  \n",
       "1000  07/05/2022 10:50:00  07/05/2022 10:54:16  \n",
       "\n",
       "[1001 rows x 4 columns]"
      ]
     },
     "metadata": {},
     "output_type": "display_data"
    }
   ],
   "source": [
    "display(jobscsv)"
   ]
  },
  {
   "cell_type": "code",
   "execution_count": 5,
   "id": "a5f0d3ba",
   "metadata": {},
   "outputs": [],
   "source": [
    "jobscsv.StartTime = pd.to_datetime(jobscsv.StartTime)"
   ]
  },
  {
   "cell_type": "code",
   "execution_count": 6,
   "id": "2fbd6dc8",
   "metadata": {},
   "outputs": [],
   "source": [
    "jobscsv.EndTime = pd.to_datetime(jobscsv.EndTime)"
   ]
  },
  {
   "cell_type": "code",
   "execution_count": 7,
   "id": "9cd797af",
   "metadata": {},
   "outputs": [
    {
     "data": {
      "text/html": [
       "<div>\n",
       "<style scoped>\n",
       "    .dataframe tbody tr th:only-of-type {\n",
       "        vertical-align: middle;\n",
       "    }\n",
       "\n",
       "    .dataframe tbody tr th {\n",
       "        vertical-align: top;\n",
       "    }\n",
       "\n",
       "    .dataframe thead th {\n",
       "        text-align: right;\n",
       "    }\n",
       "</style>\n",
       "<table border=\"1\" class=\"dataframe\">\n",
       "  <thead>\n",
       "    <tr style=\"text-align: right;\">\n",
       "      <th></th>\n",
       "      <th>HostMachineName</th>\n",
       "      <th>Key</th>\n",
       "      <th>StartTime</th>\n",
       "      <th>EndTime</th>\n",
       "      <th>duration</th>\n",
       "    </tr>\n",
       "  </thead>\n",
       "  <tbody>\n",
       "    <tr>\n",
       "      <th>0</th>\n",
       "      <td>NaN</td>\n",
       "      <td>NaN</td>\n",
       "      <td>NaT</td>\n",
       "      <td>NaT</td>\n",
       "      <td>NaT</td>\n",
       "    </tr>\n",
       "    <tr>\n",
       "      <th>1</th>\n",
       "      <td>MachineA006</td>\n",
       "      <td>036144ec-608a-4b7e-ac24-070825fa6930</td>\n",
       "      <td>2022-07-05 12:18:46</td>\n",
       "      <td>2022-07-05 12:30:15</td>\n",
       "      <td>0 days 00:11:29</td>\n",
       "    </tr>\n",
       "    <tr>\n",
       "      <th>2</th>\n",
       "      <td>MachineA005</td>\n",
       "      <td>f08d4750-e1c4-4125-a9e1-bfe5a5cdca02</td>\n",
       "      <td>2022-07-05 14:02:35</td>\n",
       "      <td>2022-07-05 16:23:42</td>\n",
       "      <td>0 days 02:21:07</td>\n",
       "    </tr>\n",
       "    <tr>\n",
       "      <th>3</th>\n",
       "      <td>MachineA002</td>\n",
       "      <td>0c9ca1e2-b468-49f9-b1b8-0659007b3fd0</td>\n",
       "      <td>2022-07-05 09:03:23</td>\n",
       "      <td>2022-07-05 12:27:56</td>\n",
       "      <td>0 days 03:24:33</td>\n",
       "    </tr>\n",
       "    <tr>\n",
       "      <th>4</th>\n",
       "      <td>MachineA011</td>\n",
       "      <td>4fb645aa-216b-4f09-b4c8-96a84c7fed50</td>\n",
       "      <td>2022-07-05 09:02:55</td>\n",
       "      <td>2022-07-05 12:32:10</td>\n",
       "      <td>0 days 03:29:15</td>\n",
       "    </tr>\n",
       "    <tr>\n",
       "      <th>...</th>\n",
       "      <td>...</td>\n",
       "      <td>...</td>\n",
       "      <td>...</td>\n",
       "      <td>...</td>\n",
       "      <td>...</td>\n",
       "    </tr>\n",
       "    <tr>\n",
       "      <th>996</th>\n",
       "      <td>MachineC001</td>\n",
       "      <td>85e83bf9-533a-437d-b46a-e06773e0d957</td>\n",
       "      <td>2022-07-05 08:00:01</td>\n",
       "      <td>2022-07-05 08:11:18</td>\n",
       "      <td>0 days 00:11:17</td>\n",
       "    </tr>\n",
       "    <tr>\n",
       "      <th>997</th>\n",
       "      <td>MachineC001</td>\n",
       "      <td>88122fde-6881-4557-b5c5-afeb18f9c23c</td>\n",
       "      <td>2022-07-05 09:30:01</td>\n",
       "      <td>2022-07-05 09:41:32</td>\n",
       "      <td>0 days 00:11:31</td>\n",
       "    </tr>\n",
       "    <tr>\n",
       "      <th>998</th>\n",
       "      <td>MachineC001</td>\n",
       "      <td>8329e217-f9b5-402f-b592-ee22483a036d</td>\n",
       "      <td>2022-07-05 10:00:01</td>\n",
       "      <td>2022-07-05 10:11:41</td>\n",
       "      <td>0 days 00:11:40</td>\n",
       "    </tr>\n",
       "    <tr>\n",
       "      <th>999</th>\n",
       "      <td>MachineA014</td>\n",
       "      <td>8dd67ce0-57ec-4825-952f-c1c61644cfae</td>\n",
       "      <td>2022-07-05 10:45:00</td>\n",
       "      <td>2022-07-05 10:47:01</td>\n",
       "      <td>0 days 00:02:01</td>\n",
       "    </tr>\n",
       "    <tr>\n",
       "      <th>1000</th>\n",
       "      <td>MachineA014</td>\n",
       "      <td>d506be14-3901-4c4b-8abf-9eab853277d8</td>\n",
       "      <td>2022-07-05 10:50:00</td>\n",
       "      <td>2022-07-05 10:54:16</td>\n",
       "      <td>0 days 00:04:16</td>\n",
       "    </tr>\n",
       "  </tbody>\n",
       "</table>\n",
       "<p>1001 rows × 5 columns</p>\n",
       "</div>"
      ],
      "text/plain": [
       "     HostMachineName                                   Key  \\\n",
       "0                NaN                                   NaN   \n",
       "1        MachineA006  036144ec-608a-4b7e-ac24-070825fa6930   \n",
       "2        MachineA005  f08d4750-e1c4-4125-a9e1-bfe5a5cdca02   \n",
       "3        MachineA002  0c9ca1e2-b468-49f9-b1b8-0659007b3fd0   \n",
       "4        MachineA011  4fb645aa-216b-4f09-b4c8-96a84c7fed50   \n",
       "...              ...                                   ...   \n",
       "996      MachineC001  85e83bf9-533a-437d-b46a-e06773e0d957   \n",
       "997      MachineC001  88122fde-6881-4557-b5c5-afeb18f9c23c   \n",
       "998      MachineC001  8329e217-f9b5-402f-b592-ee22483a036d   \n",
       "999      MachineA014  8dd67ce0-57ec-4825-952f-c1c61644cfae   \n",
       "1000     MachineA014  d506be14-3901-4c4b-8abf-9eab853277d8   \n",
       "\n",
       "               StartTime             EndTime        duration  \n",
       "0                    NaT                 NaT             NaT  \n",
       "1    2022-07-05 12:18:46 2022-07-05 12:30:15 0 days 00:11:29  \n",
       "2    2022-07-05 14:02:35 2022-07-05 16:23:42 0 days 02:21:07  \n",
       "3    2022-07-05 09:03:23 2022-07-05 12:27:56 0 days 03:24:33  \n",
       "4    2022-07-05 09:02:55 2022-07-05 12:32:10 0 days 03:29:15  \n",
       "...                  ...                 ...             ...  \n",
       "996  2022-07-05 08:00:01 2022-07-05 08:11:18 0 days 00:11:17  \n",
       "997  2022-07-05 09:30:01 2022-07-05 09:41:32 0 days 00:11:31  \n",
       "998  2022-07-05 10:00:01 2022-07-05 10:11:41 0 days 00:11:40  \n",
       "999  2022-07-05 10:45:00 2022-07-05 10:47:01 0 days 00:02:01  \n",
       "1000 2022-07-05 10:50:00 2022-07-05 10:54:16 0 days 00:04:16  \n",
       "\n",
       "[1001 rows x 5 columns]"
      ]
     },
     "execution_count": 7,
     "metadata": {},
     "output_type": "execute_result"
    }
   ],
   "source": [
    "jobscsv['duration']=jobscsv.EndTime-jobscsv.StartTime\n",
    "jobscsv"
   ]
  },
  {
   "cell_type": "code",
   "execution_count": 8,
   "id": "1f85d772",
   "metadata": {},
   "outputs": [
    {
     "data": {
      "text/html": [
       "<div>\n",
       "<style scoped>\n",
       "    .dataframe tbody tr th:only-of-type {\n",
       "        vertical-align: middle;\n",
       "    }\n",
       "\n",
       "    .dataframe tbody tr th {\n",
       "        vertical-align: top;\n",
       "    }\n",
       "\n",
       "    .dataframe thead th {\n",
       "        text-align: right;\n",
       "    }\n",
       "</style>\n",
       "<table border=\"1\" class=\"dataframe\">\n",
       "  <thead>\n",
       "    <tr style=\"text-align: right;\">\n",
       "      <th></th>\n",
       "      <th>HostMachineName</th>\n",
       "      <th>Key</th>\n",
       "      <th>StartTime</th>\n",
       "      <th>EndTime</th>\n",
       "      <th>duration</th>\n",
       "    </tr>\n",
       "  </thead>\n",
       "  <tbody>\n",
       "    <tr>\n",
       "      <th>226</th>\n",
       "      <td>MachineA002</td>\n",
       "      <td>150e99cc-3be8-4a12-ac0d-7ed751d0c463</td>\n",
       "      <td>2022-07-05 09:30:00</td>\n",
       "      <td>2022-07-05 09:30:34</td>\n",
       "      <td>0 days 00:00:34</td>\n",
       "    </tr>\n",
       "    <tr>\n",
       "      <th>20</th>\n",
       "      <td>MachineA002</td>\n",
       "      <td>cf30fc28-04b3-48ab-bd14-10edc1e8cd46</td>\n",
       "      <td>2022-07-05 12:28:03</td>\n",
       "      <td>2022-07-05 12:29:31</td>\n",
       "      <td>0 days 00:01:28</td>\n",
       "    </tr>\n",
       "    <tr>\n",
       "      <th>19</th>\n",
       "      <td>MachineA002</td>\n",
       "      <td>839ed17e-9fd9-4310-ac7c-3cbb9c2f5ed8</td>\n",
       "      <td>2022-07-05 09:00:00</td>\n",
       "      <td>2022-07-05 09:02:53</td>\n",
       "      <td>0 days 00:02:53</td>\n",
       "    </tr>\n",
       "    <tr>\n",
       "      <th>228</th>\n",
       "      <td>MachineA002</td>\n",
       "      <td>55fc2827-d95c-45d0-b0b2-bfbe5bed9960</td>\n",
       "      <td>2022-07-05 12:30:00</td>\n",
       "      <td>2022-07-05 12:30:23</td>\n",
       "      <td>0 days 00:00:23</td>\n",
       "    </tr>\n",
       "    <tr>\n",
       "      <th>227</th>\n",
       "      <td>MachineA002</td>\n",
       "      <td>1b619874-e0da-4fe9-9e15-dcbb4d798aa7</td>\n",
       "      <td>2022-07-05 10:30:00</td>\n",
       "      <td>2022-07-05 10:30:23</td>\n",
       "      <td>0 days 00:00:23</td>\n",
       "    </tr>\n",
       "    <tr>\n",
       "      <th>...</th>\n",
       "      <td>...</td>\n",
       "      <td>...</td>\n",
       "      <td>...</td>\n",
       "      <td>...</td>\n",
       "      <td>...</td>\n",
       "    </tr>\n",
       "    <tr>\n",
       "      <th>200</th>\n",
       "      <td>MachineD001</td>\n",
       "      <td>e0d2d573-fc39-43a1-ab01-2649d1a7ecd7</td>\n",
       "      <td>2022-07-05 06:30:01</td>\n",
       "      <td>2022-07-05 06:47:07</td>\n",
       "      <td>0 days 00:17:06</td>\n",
       "    </tr>\n",
       "    <tr>\n",
       "      <th>197</th>\n",
       "      <td>MachineD001</td>\n",
       "      <td>0504147e-066e-4dd0-9465-4e0d093c8011</td>\n",
       "      <td>2022-07-05 05:00:01</td>\n",
       "      <td>2022-07-05 05:11:08</td>\n",
       "      <td>0 days 00:11:07</td>\n",
       "    </tr>\n",
       "    <tr>\n",
       "      <th>209</th>\n",
       "      <td>MachineD001</td>\n",
       "      <td>030e8bba-c1f8-44a3-941a-944247d0092a</td>\n",
       "      <td>2022-07-05 13:30:00</td>\n",
       "      <td>2022-07-05 13:51:23</td>\n",
       "      <td>0 days 00:21:23</td>\n",
       "    </tr>\n",
       "    <tr>\n",
       "      <th>0</th>\n",
       "      <td>NaN</td>\n",
       "      <td>NaN</td>\n",
       "      <td>NaT</td>\n",
       "      <td>NaT</td>\n",
       "      <td>NaT</td>\n",
       "    </tr>\n",
       "    <tr>\n",
       "      <th>970</th>\n",
       "      <td>NaN</td>\n",
       "      <td>9d78d05d-28f9-4d08-a3b2-f32712ec98f8</td>\n",
       "      <td>2022-07-05 08:00:01</td>\n",
       "      <td>2022-07-05 08:03:24</td>\n",
       "      <td>0 days 00:03:23</td>\n",
       "    </tr>\n",
       "  </tbody>\n",
       "</table>\n",
       "<p>1001 rows × 5 columns</p>\n",
       "</div>"
      ],
      "text/plain": [
       "    HostMachineName                                   Key           StartTime  \\\n",
       "226     MachineA002  150e99cc-3be8-4a12-ac0d-7ed751d0c463 2022-07-05 09:30:00   \n",
       "20      MachineA002  cf30fc28-04b3-48ab-bd14-10edc1e8cd46 2022-07-05 12:28:03   \n",
       "19      MachineA002  839ed17e-9fd9-4310-ac7c-3cbb9c2f5ed8 2022-07-05 09:00:00   \n",
       "228     MachineA002  55fc2827-d95c-45d0-b0b2-bfbe5bed9960 2022-07-05 12:30:00   \n",
       "227     MachineA002  1b619874-e0da-4fe9-9e15-dcbb4d798aa7 2022-07-05 10:30:00   \n",
       "..              ...                                   ...                 ...   \n",
       "200     MachineD001  e0d2d573-fc39-43a1-ab01-2649d1a7ecd7 2022-07-05 06:30:01   \n",
       "197     MachineD001  0504147e-066e-4dd0-9465-4e0d093c8011 2022-07-05 05:00:01   \n",
       "209     MachineD001  030e8bba-c1f8-44a3-941a-944247d0092a 2022-07-05 13:30:00   \n",
       "0               NaN                                   NaN                 NaT   \n",
       "970             NaN  9d78d05d-28f9-4d08-a3b2-f32712ec98f8 2022-07-05 08:00:01   \n",
       "\n",
       "                EndTime        duration  \n",
       "226 2022-07-05 09:30:34 0 days 00:00:34  \n",
       "20  2022-07-05 12:29:31 0 days 00:01:28  \n",
       "19  2022-07-05 09:02:53 0 days 00:02:53  \n",
       "228 2022-07-05 12:30:23 0 days 00:00:23  \n",
       "227 2022-07-05 10:30:23 0 days 00:00:23  \n",
       "..                  ...             ...  \n",
       "200 2022-07-05 06:47:07 0 days 00:17:06  \n",
       "197 2022-07-05 05:11:08 0 days 00:11:07  \n",
       "209 2022-07-05 13:51:23 0 days 00:21:23  \n",
       "0                   NaT             NaT  \n",
       "970 2022-07-05 08:03:24 0 days 00:03:23  \n",
       "\n",
       "[1001 rows x 5 columns]"
      ]
     },
     "execution_count": 8,
     "metadata": {},
     "output_type": "execute_result"
    }
   ],
   "source": []
  },
  {
   "cell_type": "code",
   "execution_count": 9,
   "id": "d27d1643",
   "metadata": {},
   "outputs": [],
   "source": [
    "import plotly.express as px"
   ]
  },
  {
   "cell_type": "code",
   "execution_count": 21,
   "id": "8e4fed9f",
   "metadata": {},
   "outputs": [
    {
     "data": {
      "application/vnd.plotly.v1+json": {
       "config": {
        "plotlyServerURL": "https://plot.ly"
       },
       "data": [
        {
         "alignmentgroup": "True",
         "base": [
          "2022-07-05T05:00:01",
          "2022-07-05T05:30:01",
          "2022-07-05T06:00:00",
          "2022-07-05T06:30:01",
          "2022-07-05T07:00:02",
          "2022-07-05T07:30:00",
          "2022-07-05T08:00:00",
          "2022-07-05T08:30:00",
          "2022-07-05T09:00:00",
          "2022-07-05T09:30:00",
          "2022-07-05T10:00:00",
          "2022-07-05T10:30:00",
          "2022-07-05T11:00:01",
          "2022-07-05T11:30:00",
          "2022-07-05T12:00:00",
          "2022-07-05T12:30:01",
          "2022-07-05T13:00:02",
          "2022-07-05T13:30:00",
          "2022-07-05T14:00:03"
         ],
         "hovertemplate": "StartTime=%{base}<br>EndTime=%{x}<br>Key=%{y}<extra></extra>",
         "legendgroup": "",
         "marker": {
          "color": "#636efa",
          "pattern": {
           "shape": ""
          }
         },
         "name": "",
         "offsetgroup": "",
         "orientation": "h",
         "showlegend": false,
         "textposition": "auto",
         "type": "bar",
         "x": [
          667000,
          646000,
          1024000,
          1026000,
          1152000,
          736000,
          739000,
          659000,
          1050000,
          714000,
          728000,
          730000,
          750000,
          649000,
          1067000,
          742000,
          746000,
          1283000,
          730000
         ],
         "xaxis": "x",
         "y": [
          "0504147e-066e-4dd0-9465-4e0d093c8011",
          "58edaba5-ba66-4009-88e2-bf17db13cba0",
          "e46099d4-0f80-4042-883d-03f67ad6f0ee",
          "e0d2d573-fc39-43a1-ab01-2649d1a7ecd7",
          "28148164-26b6-494b-8884-24ff761d647a",
          "b4c5c4a4-8751-448e-8dde-f42b03aa88d6",
          "5a1a9dd1-cb32-4a57-898d-9970d596709e",
          "b0195e4f-1382-47b0-a3c6-b7327bfe4ef4",
          "3e1453e7-3b14-48bd-8d37-84545c081dff",
          "ec656543-110c-4dcb-a9ca-7de7730f77e5",
          "4ca8de01-f30a-4e85-8da2-e1746bf87cf8",
          "a451f310-85df-44fe-8087-c832f5d57e9c",
          "7ca5f50c-b4eb-4461-be10-6d86a7584964",
          "7026ede1-7ed4-4ea4-bddb-c0cee1c9386f",
          "8f654233-1ef9-451d-93af-ff94147e5e82",
          "86631dd8-54ea-42eb-8ab2-fb12163fdfc8",
          "98c68741-9cc5-4c51-b3e7-6297824f4951",
          "030e8bba-c1f8-44a3-941a-944247d0092a",
          "05c4c70f-facb-46f0-9802-cf4e196581da"
         ],
         "yaxis": "y"
        }
       ],
       "layout": {
        "barmode": "overlay",
        "legend": {
         "tracegroupgap": 0
        },
        "template": {
         "data": {
          "bar": [
           {
            "error_x": {
             "color": "#2a3f5f"
            },
            "error_y": {
             "color": "#2a3f5f"
            },
            "marker": {
             "line": {
              "color": "#E5ECF6",
              "width": 0.5
             },
             "pattern": {
              "fillmode": "overlay",
              "size": 10,
              "solidity": 0.2
             }
            },
            "type": "bar"
           }
          ],
          "barpolar": [
           {
            "marker": {
             "line": {
              "color": "#E5ECF6",
              "width": 0.5
             },
             "pattern": {
              "fillmode": "overlay",
              "size": 10,
              "solidity": 0.2
             }
            },
            "type": "barpolar"
           }
          ],
          "carpet": [
           {
            "aaxis": {
             "endlinecolor": "#2a3f5f",
             "gridcolor": "white",
             "linecolor": "white",
             "minorgridcolor": "white",
             "startlinecolor": "#2a3f5f"
            },
            "baxis": {
             "endlinecolor": "#2a3f5f",
             "gridcolor": "white",
             "linecolor": "white",
             "minorgridcolor": "white",
             "startlinecolor": "#2a3f5f"
            },
            "type": "carpet"
           }
          ],
          "choropleth": [
           {
            "colorbar": {
             "outlinewidth": 0,
             "ticks": ""
            },
            "type": "choropleth"
           }
          ],
          "contour": [
           {
            "colorbar": {
             "outlinewidth": 0,
             "ticks": ""
            },
            "colorscale": [
             [
              0,
              "#0d0887"
             ],
             [
              0.1111111111111111,
              "#46039f"
             ],
             [
              0.2222222222222222,
              "#7201a8"
             ],
             [
              0.3333333333333333,
              "#9c179e"
             ],
             [
              0.4444444444444444,
              "#bd3786"
             ],
             [
              0.5555555555555556,
              "#d8576b"
             ],
             [
              0.6666666666666666,
              "#ed7953"
             ],
             [
              0.7777777777777778,
              "#fb9f3a"
             ],
             [
              0.8888888888888888,
              "#fdca26"
             ],
             [
              1,
              "#f0f921"
             ]
            ],
            "type": "contour"
           }
          ],
          "contourcarpet": [
           {
            "colorbar": {
             "outlinewidth": 0,
             "ticks": ""
            },
            "type": "contourcarpet"
           }
          ],
          "heatmap": [
           {
            "colorbar": {
             "outlinewidth": 0,
             "ticks": ""
            },
            "colorscale": [
             [
              0,
              "#0d0887"
             ],
             [
              0.1111111111111111,
              "#46039f"
             ],
             [
              0.2222222222222222,
              "#7201a8"
             ],
             [
              0.3333333333333333,
              "#9c179e"
             ],
             [
              0.4444444444444444,
              "#bd3786"
             ],
             [
              0.5555555555555556,
              "#d8576b"
             ],
             [
              0.6666666666666666,
              "#ed7953"
             ],
             [
              0.7777777777777778,
              "#fb9f3a"
             ],
             [
              0.8888888888888888,
              "#fdca26"
             ],
             [
              1,
              "#f0f921"
             ]
            ],
            "type": "heatmap"
           }
          ],
          "heatmapgl": [
           {
            "colorbar": {
             "outlinewidth": 0,
             "ticks": ""
            },
            "colorscale": [
             [
              0,
              "#0d0887"
             ],
             [
              0.1111111111111111,
              "#46039f"
             ],
             [
              0.2222222222222222,
              "#7201a8"
             ],
             [
              0.3333333333333333,
              "#9c179e"
             ],
             [
              0.4444444444444444,
              "#bd3786"
             ],
             [
              0.5555555555555556,
              "#d8576b"
             ],
             [
              0.6666666666666666,
              "#ed7953"
             ],
             [
              0.7777777777777778,
              "#fb9f3a"
             ],
             [
              0.8888888888888888,
              "#fdca26"
             ],
             [
              1,
              "#f0f921"
             ]
            ],
            "type": "heatmapgl"
           }
          ],
          "histogram": [
           {
            "marker": {
             "pattern": {
              "fillmode": "overlay",
              "size": 10,
              "solidity": 0.2
             }
            },
            "type": "histogram"
           }
          ],
          "histogram2d": [
           {
            "colorbar": {
             "outlinewidth": 0,
             "ticks": ""
            },
            "colorscale": [
             [
              0,
              "#0d0887"
             ],
             [
              0.1111111111111111,
              "#46039f"
             ],
             [
              0.2222222222222222,
              "#7201a8"
             ],
             [
              0.3333333333333333,
              "#9c179e"
             ],
             [
              0.4444444444444444,
              "#bd3786"
             ],
             [
              0.5555555555555556,
              "#d8576b"
             ],
             [
              0.6666666666666666,
              "#ed7953"
             ],
             [
              0.7777777777777778,
              "#fb9f3a"
             ],
             [
              0.8888888888888888,
              "#fdca26"
             ],
             [
              1,
              "#f0f921"
             ]
            ],
            "type": "histogram2d"
           }
          ],
          "histogram2dcontour": [
           {
            "colorbar": {
             "outlinewidth": 0,
             "ticks": ""
            },
            "colorscale": [
             [
              0,
              "#0d0887"
             ],
             [
              0.1111111111111111,
              "#46039f"
             ],
             [
              0.2222222222222222,
              "#7201a8"
             ],
             [
              0.3333333333333333,
              "#9c179e"
             ],
             [
              0.4444444444444444,
              "#bd3786"
             ],
             [
              0.5555555555555556,
              "#d8576b"
             ],
             [
              0.6666666666666666,
              "#ed7953"
             ],
             [
              0.7777777777777778,
              "#fb9f3a"
             ],
             [
              0.8888888888888888,
              "#fdca26"
             ],
             [
              1,
              "#f0f921"
             ]
            ],
            "type": "histogram2dcontour"
           }
          ],
          "mesh3d": [
           {
            "colorbar": {
             "outlinewidth": 0,
             "ticks": ""
            },
            "type": "mesh3d"
           }
          ],
          "parcoords": [
           {
            "line": {
             "colorbar": {
              "outlinewidth": 0,
              "ticks": ""
             }
            },
            "type": "parcoords"
           }
          ],
          "pie": [
           {
            "automargin": true,
            "type": "pie"
           }
          ],
          "scatter": [
           {
            "fillpattern": {
             "fillmode": "overlay",
             "size": 10,
             "solidity": 0.2
            },
            "type": "scatter"
           }
          ],
          "scatter3d": [
           {
            "line": {
             "colorbar": {
              "outlinewidth": 0,
              "ticks": ""
             }
            },
            "marker": {
             "colorbar": {
              "outlinewidth": 0,
              "ticks": ""
             }
            },
            "type": "scatter3d"
           }
          ],
          "scattercarpet": [
           {
            "marker": {
             "colorbar": {
              "outlinewidth": 0,
              "ticks": ""
             }
            },
            "type": "scattercarpet"
           }
          ],
          "scattergeo": [
           {
            "marker": {
             "colorbar": {
              "outlinewidth": 0,
              "ticks": ""
             }
            },
            "type": "scattergeo"
           }
          ],
          "scattergl": [
           {
            "marker": {
             "colorbar": {
              "outlinewidth": 0,
              "ticks": ""
             }
            },
            "type": "scattergl"
           }
          ],
          "scattermapbox": [
           {
            "marker": {
             "colorbar": {
              "outlinewidth": 0,
              "ticks": ""
             }
            },
            "type": "scattermapbox"
           }
          ],
          "scatterpolar": [
           {
            "marker": {
             "colorbar": {
              "outlinewidth": 0,
              "ticks": ""
             }
            },
            "type": "scatterpolar"
           }
          ],
          "scatterpolargl": [
           {
            "marker": {
             "colorbar": {
              "outlinewidth": 0,
              "ticks": ""
             }
            },
            "type": "scatterpolargl"
           }
          ],
          "scatterternary": [
           {
            "marker": {
             "colorbar": {
              "outlinewidth": 0,
              "ticks": ""
             }
            },
            "type": "scatterternary"
           }
          ],
          "surface": [
           {
            "colorbar": {
             "outlinewidth": 0,
             "ticks": ""
            },
            "colorscale": [
             [
              0,
              "#0d0887"
             ],
             [
              0.1111111111111111,
              "#46039f"
             ],
             [
              0.2222222222222222,
              "#7201a8"
             ],
             [
              0.3333333333333333,
              "#9c179e"
             ],
             [
              0.4444444444444444,
              "#bd3786"
             ],
             [
              0.5555555555555556,
              "#d8576b"
             ],
             [
              0.6666666666666666,
              "#ed7953"
             ],
             [
              0.7777777777777778,
              "#fb9f3a"
             ],
             [
              0.8888888888888888,
              "#fdca26"
             ],
             [
              1,
              "#f0f921"
             ]
            ],
            "type": "surface"
           }
          ],
          "table": [
           {
            "cells": {
             "fill": {
              "color": "#EBF0F8"
             },
             "line": {
              "color": "white"
             }
            },
            "header": {
             "fill": {
              "color": "#C8D4E3"
             },
             "line": {
              "color": "white"
             }
            },
            "type": "table"
           }
          ]
         },
         "layout": {
          "annotationdefaults": {
           "arrowcolor": "#2a3f5f",
           "arrowhead": 0,
           "arrowwidth": 1
          },
          "autotypenumbers": "strict",
          "coloraxis": {
           "colorbar": {
            "outlinewidth": 0,
            "ticks": ""
           }
          },
          "colorscale": {
           "diverging": [
            [
             0,
             "#8e0152"
            ],
            [
             0.1,
             "#c51b7d"
            ],
            [
             0.2,
             "#de77ae"
            ],
            [
             0.3,
             "#f1b6da"
            ],
            [
             0.4,
             "#fde0ef"
            ],
            [
             0.5,
             "#f7f7f7"
            ],
            [
             0.6,
             "#e6f5d0"
            ],
            [
             0.7,
             "#b8e186"
            ],
            [
             0.8,
             "#7fbc41"
            ],
            [
             0.9,
             "#4d9221"
            ],
            [
             1,
             "#276419"
            ]
           ],
           "sequential": [
            [
             0,
             "#0d0887"
            ],
            [
             0.1111111111111111,
             "#46039f"
            ],
            [
             0.2222222222222222,
             "#7201a8"
            ],
            [
             0.3333333333333333,
             "#9c179e"
            ],
            [
             0.4444444444444444,
             "#bd3786"
            ],
            [
             0.5555555555555556,
             "#d8576b"
            ],
            [
             0.6666666666666666,
             "#ed7953"
            ],
            [
             0.7777777777777778,
             "#fb9f3a"
            ],
            [
             0.8888888888888888,
             "#fdca26"
            ],
            [
             1,
             "#f0f921"
            ]
           ],
           "sequentialminus": [
            [
             0,
             "#0d0887"
            ],
            [
             0.1111111111111111,
             "#46039f"
            ],
            [
             0.2222222222222222,
             "#7201a8"
            ],
            [
             0.3333333333333333,
             "#9c179e"
            ],
            [
             0.4444444444444444,
             "#bd3786"
            ],
            [
             0.5555555555555556,
             "#d8576b"
            ],
            [
             0.6666666666666666,
             "#ed7953"
            ],
            [
             0.7777777777777778,
             "#fb9f3a"
            ],
            [
             0.8888888888888888,
             "#fdca26"
            ],
            [
             1,
             "#f0f921"
            ]
           ]
          },
          "colorway": [
           "#636efa",
           "#EF553B",
           "#00cc96",
           "#ab63fa",
           "#FFA15A",
           "#19d3f3",
           "#FF6692",
           "#B6E880",
           "#FF97FF",
           "#FECB52"
          ],
          "font": {
           "color": "#2a3f5f"
          },
          "geo": {
           "bgcolor": "white",
           "lakecolor": "white",
           "landcolor": "#E5ECF6",
           "showlakes": true,
           "showland": true,
           "subunitcolor": "white"
          },
          "hoverlabel": {
           "align": "left"
          },
          "hovermode": "closest",
          "mapbox": {
           "style": "light"
          },
          "paper_bgcolor": "white",
          "plot_bgcolor": "#E5ECF6",
          "polar": {
           "angularaxis": {
            "gridcolor": "white",
            "linecolor": "white",
            "ticks": ""
           },
           "bgcolor": "#E5ECF6",
           "radialaxis": {
            "gridcolor": "white",
            "linecolor": "white",
            "ticks": ""
           }
          },
          "scene": {
           "xaxis": {
            "backgroundcolor": "#E5ECF6",
            "gridcolor": "white",
            "gridwidth": 2,
            "linecolor": "white",
            "showbackground": true,
            "ticks": "",
            "zerolinecolor": "white"
           },
           "yaxis": {
            "backgroundcolor": "#E5ECF6",
            "gridcolor": "white",
            "gridwidth": 2,
            "linecolor": "white",
            "showbackground": true,
            "ticks": "",
            "zerolinecolor": "white"
           },
           "zaxis": {
            "backgroundcolor": "#E5ECF6",
            "gridcolor": "white",
            "gridwidth": 2,
            "linecolor": "white",
            "showbackground": true,
            "ticks": "",
            "zerolinecolor": "white"
           }
          },
          "shapedefaults": {
           "line": {
            "color": "#2a3f5f"
           }
          },
          "ternary": {
           "aaxis": {
            "gridcolor": "white",
            "linecolor": "white",
            "ticks": ""
           },
           "baxis": {
            "gridcolor": "white",
            "linecolor": "white",
            "ticks": ""
           },
           "bgcolor": "#E5ECF6",
           "caxis": {
            "gridcolor": "white",
            "linecolor": "white",
            "ticks": ""
           }
          },
          "title": {
           "x": 0.05
          },
          "xaxis": {
           "automargin": true,
           "gridcolor": "white",
           "linecolor": "white",
           "ticks": "",
           "title": {
            "standoff": 15
           },
           "zerolinecolor": "white",
           "zerolinewidth": 2
          },
          "yaxis": {
           "automargin": true,
           "gridcolor": "white",
           "linecolor": "white",
           "ticks": "",
           "title": {
            "standoff": 15
           },
           "zerolinecolor": "white",
           "zerolinewidth": 2
          }
         }
        },
        "title": {
         "text": "Gantt chart for jobs ran on Machine001"
        },
        "xaxis": {
         "anchor": "y",
         "domain": [
          0,
          1
         ],
         "type": "date"
        },
        "yaxis": {
         "anchor": "x",
         "autorange": "reversed",
         "domain": [
          0,
          1
         ],
         "title": {
          "text": "Key"
         }
        }
       }
      },
      "text/html": [
       "<div>                            <div id=\"643345ce-723c-417c-a69e-5884ef240216\" class=\"plotly-graph-div\" style=\"height:525px; width:100%;\"></div>            <script type=\"text/javascript\">                require([\"plotly\"], function(Plotly) {                    window.PLOTLYENV=window.PLOTLYENV || {};                                    if (document.getElementById(\"643345ce-723c-417c-a69e-5884ef240216\")) {                    Plotly.newPlot(                        \"643345ce-723c-417c-a69e-5884ef240216\",                        [{\"alignmentgroup\":\"True\",\"base\":[\"2022-07-05T05:00:01\",\"2022-07-05T05:30:01\",\"2022-07-05T06:00:00\",\"2022-07-05T06:30:01\",\"2022-07-05T07:00:02\",\"2022-07-05T07:30:00\",\"2022-07-05T08:00:00\",\"2022-07-05T08:30:00\",\"2022-07-05T09:00:00\",\"2022-07-05T09:30:00\",\"2022-07-05T10:00:00\",\"2022-07-05T10:30:00\",\"2022-07-05T11:00:01\",\"2022-07-05T11:30:00\",\"2022-07-05T12:00:00\",\"2022-07-05T12:30:01\",\"2022-07-05T13:00:02\",\"2022-07-05T13:30:00\",\"2022-07-05T14:00:03\"],\"hovertemplate\":\"StartTime=%{base}<br>EndTime=%{x}<br>Key=%{y}<extra></extra>\",\"legendgroup\":\"\",\"marker\":{\"color\":\"#636efa\",\"pattern\":{\"shape\":\"\"}},\"name\":\"\",\"offsetgroup\":\"\",\"orientation\":\"h\",\"showlegend\":false,\"textposition\":\"auto\",\"x\":[667000.0,646000.0,1024000.0,1026000.0,1152000.0,736000.0,739000.0,659000.0,1050000.0,714000.0,728000.0,730000.0,750000.0,649000.0,1067000.0,742000.0,746000.0,1283000.0,730000.0],\"xaxis\":\"x\",\"y\":[\"0504147e-066e-4dd0-9465-4e0d093c8011\",\"58edaba5-ba66-4009-88e2-bf17db13cba0\",\"e46099d4-0f80-4042-883d-03f67ad6f0ee\",\"e0d2d573-fc39-43a1-ab01-2649d1a7ecd7\",\"28148164-26b6-494b-8884-24ff761d647a\",\"b4c5c4a4-8751-448e-8dde-f42b03aa88d6\",\"5a1a9dd1-cb32-4a57-898d-9970d596709e\",\"b0195e4f-1382-47b0-a3c6-b7327bfe4ef4\",\"3e1453e7-3b14-48bd-8d37-84545c081dff\",\"ec656543-110c-4dcb-a9ca-7de7730f77e5\",\"4ca8de01-f30a-4e85-8da2-e1746bf87cf8\",\"a451f310-85df-44fe-8087-c832f5d57e9c\",\"7ca5f50c-b4eb-4461-be10-6d86a7584964\",\"7026ede1-7ed4-4ea4-bddb-c0cee1c9386f\",\"8f654233-1ef9-451d-93af-ff94147e5e82\",\"86631dd8-54ea-42eb-8ab2-fb12163fdfc8\",\"98c68741-9cc5-4c51-b3e7-6297824f4951\",\"030e8bba-c1f8-44a3-941a-944247d0092a\",\"05c4c70f-facb-46f0-9802-cf4e196581da\"],\"yaxis\":\"y\",\"type\":\"bar\"}],                        {\"template\":{\"data\":{\"histogram2dcontour\":[{\"type\":\"histogram2dcontour\",\"colorbar\":{\"outlinewidth\":0,\"ticks\":\"\"},\"colorscale\":[[0.0,\"#0d0887\"],[0.1111111111111111,\"#46039f\"],[0.2222222222222222,\"#7201a8\"],[0.3333333333333333,\"#9c179e\"],[0.4444444444444444,\"#bd3786\"],[0.5555555555555556,\"#d8576b\"],[0.6666666666666666,\"#ed7953\"],[0.7777777777777778,\"#fb9f3a\"],[0.8888888888888888,\"#fdca26\"],[1.0,\"#f0f921\"]]}],\"choropleth\":[{\"type\":\"choropleth\",\"colorbar\":{\"outlinewidth\":0,\"ticks\":\"\"}}],\"histogram2d\":[{\"type\":\"histogram2d\",\"colorbar\":{\"outlinewidth\":0,\"ticks\":\"\"},\"colorscale\":[[0.0,\"#0d0887\"],[0.1111111111111111,\"#46039f\"],[0.2222222222222222,\"#7201a8\"],[0.3333333333333333,\"#9c179e\"],[0.4444444444444444,\"#bd3786\"],[0.5555555555555556,\"#d8576b\"],[0.6666666666666666,\"#ed7953\"],[0.7777777777777778,\"#fb9f3a\"],[0.8888888888888888,\"#fdca26\"],[1.0,\"#f0f921\"]]}],\"heatmap\":[{\"type\":\"heatmap\",\"colorbar\":{\"outlinewidth\":0,\"ticks\":\"\"},\"colorscale\":[[0.0,\"#0d0887\"],[0.1111111111111111,\"#46039f\"],[0.2222222222222222,\"#7201a8\"],[0.3333333333333333,\"#9c179e\"],[0.4444444444444444,\"#bd3786\"],[0.5555555555555556,\"#d8576b\"],[0.6666666666666666,\"#ed7953\"],[0.7777777777777778,\"#fb9f3a\"],[0.8888888888888888,\"#fdca26\"],[1.0,\"#f0f921\"]]}],\"heatmapgl\":[{\"type\":\"heatmapgl\",\"colorbar\":{\"outlinewidth\":0,\"ticks\":\"\"},\"colorscale\":[[0.0,\"#0d0887\"],[0.1111111111111111,\"#46039f\"],[0.2222222222222222,\"#7201a8\"],[0.3333333333333333,\"#9c179e\"],[0.4444444444444444,\"#bd3786\"],[0.5555555555555556,\"#d8576b\"],[0.6666666666666666,\"#ed7953\"],[0.7777777777777778,\"#fb9f3a\"],[0.8888888888888888,\"#fdca26\"],[1.0,\"#f0f921\"]]}],\"contourcarpet\":[{\"type\":\"contourcarpet\",\"colorbar\":{\"outlinewidth\":0,\"ticks\":\"\"}}],\"contour\":[{\"type\":\"contour\",\"colorbar\":{\"outlinewidth\":0,\"ticks\":\"\"},\"colorscale\":[[0.0,\"#0d0887\"],[0.1111111111111111,\"#46039f\"],[0.2222222222222222,\"#7201a8\"],[0.3333333333333333,\"#9c179e\"],[0.4444444444444444,\"#bd3786\"],[0.5555555555555556,\"#d8576b\"],[0.6666666666666666,\"#ed7953\"],[0.7777777777777778,\"#fb9f3a\"],[0.8888888888888888,\"#fdca26\"],[1.0,\"#f0f921\"]]}],\"surface\":[{\"type\":\"surface\",\"colorbar\":{\"outlinewidth\":0,\"ticks\":\"\"},\"colorscale\":[[0.0,\"#0d0887\"],[0.1111111111111111,\"#46039f\"],[0.2222222222222222,\"#7201a8\"],[0.3333333333333333,\"#9c179e\"],[0.4444444444444444,\"#bd3786\"],[0.5555555555555556,\"#d8576b\"],[0.6666666666666666,\"#ed7953\"],[0.7777777777777778,\"#fb9f3a\"],[0.8888888888888888,\"#fdca26\"],[1.0,\"#f0f921\"]]}],\"mesh3d\":[{\"type\":\"mesh3d\",\"colorbar\":{\"outlinewidth\":0,\"ticks\":\"\"}}],\"scatter\":[{\"fillpattern\":{\"fillmode\":\"overlay\",\"size\":10,\"solidity\":0.2},\"type\":\"scatter\"}],\"parcoords\":[{\"type\":\"parcoords\",\"line\":{\"colorbar\":{\"outlinewidth\":0,\"ticks\":\"\"}}}],\"scatterpolargl\":[{\"type\":\"scatterpolargl\",\"marker\":{\"colorbar\":{\"outlinewidth\":0,\"ticks\":\"\"}}}],\"bar\":[{\"error_x\":{\"color\":\"#2a3f5f\"},\"error_y\":{\"color\":\"#2a3f5f\"},\"marker\":{\"line\":{\"color\":\"#E5ECF6\",\"width\":0.5},\"pattern\":{\"fillmode\":\"overlay\",\"size\":10,\"solidity\":0.2}},\"type\":\"bar\"}],\"scattergeo\":[{\"type\":\"scattergeo\",\"marker\":{\"colorbar\":{\"outlinewidth\":0,\"ticks\":\"\"}}}],\"scatterpolar\":[{\"type\":\"scatterpolar\",\"marker\":{\"colorbar\":{\"outlinewidth\":0,\"ticks\":\"\"}}}],\"histogram\":[{\"marker\":{\"pattern\":{\"fillmode\":\"overlay\",\"size\":10,\"solidity\":0.2}},\"type\":\"histogram\"}],\"scattergl\":[{\"type\":\"scattergl\",\"marker\":{\"colorbar\":{\"outlinewidth\":0,\"ticks\":\"\"}}}],\"scatter3d\":[{\"type\":\"scatter3d\",\"line\":{\"colorbar\":{\"outlinewidth\":0,\"ticks\":\"\"}},\"marker\":{\"colorbar\":{\"outlinewidth\":0,\"ticks\":\"\"}}}],\"scattermapbox\":[{\"type\":\"scattermapbox\",\"marker\":{\"colorbar\":{\"outlinewidth\":0,\"ticks\":\"\"}}}],\"scatterternary\":[{\"type\":\"scatterternary\",\"marker\":{\"colorbar\":{\"outlinewidth\":0,\"ticks\":\"\"}}}],\"scattercarpet\":[{\"type\":\"scattercarpet\",\"marker\":{\"colorbar\":{\"outlinewidth\":0,\"ticks\":\"\"}}}],\"carpet\":[{\"aaxis\":{\"endlinecolor\":\"#2a3f5f\",\"gridcolor\":\"white\",\"linecolor\":\"white\",\"minorgridcolor\":\"white\",\"startlinecolor\":\"#2a3f5f\"},\"baxis\":{\"endlinecolor\":\"#2a3f5f\",\"gridcolor\":\"white\",\"linecolor\":\"white\",\"minorgridcolor\":\"white\",\"startlinecolor\":\"#2a3f5f\"},\"type\":\"carpet\"}],\"table\":[{\"cells\":{\"fill\":{\"color\":\"#EBF0F8\"},\"line\":{\"color\":\"white\"}},\"header\":{\"fill\":{\"color\":\"#C8D4E3\"},\"line\":{\"color\":\"white\"}},\"type\":\"table\"}],\"barpolar\":[{\"marker\":{\"line\":{\"color\":\"#E5ECF6\",\"width\":0.5},\"pattern\":{\"fillmode\":\"overlay\",\"size\":10,\"solidity\":0.2}},\"type\":\"barpolar\"}],\"pie\":[{\"automargin\":true,\"type\":\"pie\"}]},\"layout\":{\"autotypenumbers\":\"strict\",\"colorway\":[\"#636efa\",\"#EF553B\",\"#00cc96\",\"#ab63fa\",\"#FFA15A\",\"#19d3f3\",\"#FF6692\",\"#B6E880\",\"#FF97FF\",\"#FECB52\"],\"font\":{\"color\":\"#2a3f5f\"},\"hovermode\":\"closest\",\"hoverlabel\":{\"align\":\"left\"},\"paper_bgcolor\":\"white\",\"plot_bgcolor\":\"#E5ECF6\",\"polar\":{\"bgcolor\":\"#E5ECF6\",\"angularaxis\":{\"gridcolor\":\"white\",\"linecolor\":\"white\",\"ticks\":\"\"},\"radialaxis\":{\"gridcolor\":\"white\",\"linecolor\":\"white\",\"ticks\":\"\"}},\"ternary\":{\"bgcolor\":\"#E5ECF6\",\"aaxis\":{\"gridcolor\":\"white\",\"linecolor\":\"white\",\"ticks\":\"\"},\"baxis\":{\"gridcolor\":\"white\",\"linecolor\":\"white\",\"ticks\":\"\"},\"caxis\":{\"gridcolor\":\"white\",\"linecolor\":\"white\",\"ticks\":\"\"}},\"coloraxis\":{\"colorbar\":{\"outlinewidth\":0,\"ticks\":\"\"}},\"colorscale\":{\"sequential\":[[0.0,\"#0d0887\"],[0.1111111111111111,\"#46039f\"],[0.2222222222222222,\"#7201a8\"],[0.3333333333333333,\"#9c179e\"],[0.4444444444444444,\"#bd3786\"],[0.5555555555555556,\"#d8576b\"],[0.6666666666666666,\"#ed7953\"],[0.7777777777777778,\"#fb9f3a\"],[0.8888888888888888,\"#fdca26\"],[1.0,\"#f0f921\"]],\"sequentialminus\":[[0.0,\"#0d0887\"],[0.1111111111111111,\"#46039f\"],[0.2222222222222222,\"#7201a8\"],[0.3333333333333333,\"#9c179e\"],[0.4444444444444444,\"#bd3786\"],[0.5555555555555556,\"#d8576b\"],[0.6666666666666666,\"#ed7953\"],[0.7777777777777778,\"#fb9f3a\"],[0.8888888888888888,\"#fdca26\"],[1.0,\"#f0f921\"]],\"diverging\":[[0,\"#8e0152\"],[0.1,\"#c51b7d\"],[0.2,\"#de77ae\"],[0.3,\"#f1b6da\"],[0.4,\"#fde0ef\"],[0.5,\"#f7f7f7\"],[0.6,\"#e6f5d0\"],[0.7,\"#b8e186\"],[0.8,\"#7fbc41\"],[0.9,\"#4d9221\"],[1,\"#276419\"]]},\"xaxis\":{\"gridcolor\":\"white\",\"linecolor\":\"white\",\"ticks\":\"\",\"title\":{\"standoff\":15},\"zerolinecolor\":\"white\",\"automargin\":true,\"zerolinewidth\":2},\"yaxis\":{\"gridcolor\":\"white\",\"linecolor\":\"white\",\"ticks\":\"\",\"title\":{\"standoff\":15},\"zerolinecolor\":\"white\",\"automargin\":true,\"zerolinewidth\":2},\"scene\":{\"xaxis\":{\"backgroundcolor\":\"#E5ECF6\",\"gridcolor\":\"white\",\"linecolor\":\"white\",\"showbackground\":true,\"ticks\":\"\",\"zerolinecolor\":\"white\",\"gridwidth\":2},\"yaxis\":{\"backgroundcolor\":\"#E5ECF6\",\"gridcolor\":\"white\",\"linecolor\":\"white\",\"showbackground\":true,\"ticks\":\"\",\"zerolinecolor\":\"white\",\"gridwidth\":2},\"zaxis\":{\"backgroundcolor\":\"#E5ECF6\",\"gridcolor\":\"white\",\"linecolor\":\"white\",\"showbackground\":true,\"ticks\":\"\",\"zerolinecolor\":\"white\",\"gridwidth\":2}},\"shapedefaults\":{\"line\":{\"color\":\"#2a3f5f\"}},\"annotationdefaults\":{\"arrowcolor\":\"#2a3f5f\",\"arrowhead\":0,\"arrowwidth\":1},\"geo\":{\"bgcolor\":\"white\",\"landcolor\":\"#E5ECF6\",\"subunitcolor\":\"white\",\"showland\":true,\"showlakes\":true,\"lakecolor\":\"white\"},\"title\":{\"x\":0.05},\"mapbox\":{\"style\":\"light\"}}},\"xaxis\":{\"anchor\":\"y\",\"domain\":[0.0,1.0],\"type\":\"date\"},\"yaxis\":{\"anchor\":\"x\",\"domain\":[0.0,1.0],\"title\":{\"text\":\"Key\"},\"autorange\":\"reversed\"},\"legend\":{\"tracegroupgap\":0},\"title\":{\"text\":\"Gantt chart for jobs ran on Machine001\"},\"barmode\":\"overlay\"},                        {\"responsive\": true}                    ).then(function(){\n",
       "                            \n",
       "var gd = document.getElementById('643345ce-723c-417c-a69e-5884ef240216');\n",
       "var x = new MutationObserver(function (mutations, observer) {{\n",
       "        var display = window.getComputedStyle(gd).display;\n",
       "        if (!display || display === 'none') {{\n",
       "            console.log([gd, 'removed!']);\n",
       "            Plotly.purge(gd);\n",
       "            observer.disconnect();\n",
       "        }}\n",
       "}});\n",
       "\n",
       "// Listen for the removal of the full notebook cells\n",
       "var notebookContainer = gd.closest('#notebook-container');\n",
       "if (notebookContainer) {{\n",
       "    x.observe(notebookContainer, {childList: true});\n",
       "}}\n",
       "\n",
       "// Listen for the clearing of the current output cell\n",
       "var outputEl = gd.closest('.output');\n",
       "if (outputEl) {{\n",
       "    x.observe(outputEl, {childList: true});\n",
       "}}\n",
       "\n",
       "                        })                };                });            </script>        </div>"
      ]
     },
     "metadata": {},
     "output_type": "display_data"
    }
   ],
   "source": [
    "MachineD001_df = jobscsv.loc[jobscsv['HostMachineName'] == 'MachineD001']\n",
    "MachineD001_df=MachineD001_df.sort_values(by='StartTime', ascending=True)\n",
    "fig = px.timeline(MachineD001_df, x_start=\"StartTime\", x_end=\"EndTime\", y=\"Key\",  title= \"Gantt chart for jobs ran on Machine001\")\n",
    "fig.update_yaxes(autorange=\"reversed\") # otherwise tasks are listed from the bottom up\n",
    "fig.show()"
   ]
  },
  {
   "cell_type": "code",
   "execution_count": null,
   "id": "bab84beb",
   "metadata": {},
   "outputs": [],
   "source": []
  }
 ],
 "metadata": {
  "kernelspec": {
   "display_name": "Python 3 (ipykernel)",
   "language": "python",
   "name": "python3"
  },
  "language_info": {
   "codemirror_mode": {
    "name": "ipython",
    "version": 3
   },
   "file_extension": ".py",
   "mimetype": "text/x-python",
   "name": "python",
   "nbconvert_exporter": "python",
   "pygments_lexer": "ipython3",
   "version": "3.10.5"
  }
 },
 "nbformat": 4,
 "nbformat_minor": 5
}
